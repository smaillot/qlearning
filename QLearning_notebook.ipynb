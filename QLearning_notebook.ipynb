{
 "cells": [
  {
   "cell_type": "markdown",
   "metadata": {},
   "source": [
    "# QLearning Examples"
   ]
  },
  {
   "cell_type": "markdown",
   "metadata": {},
   "source": [
    "Start by importing QLearning class and functions written in QLearning.py"
   ]
  },
  {
   "cell_type": "code",
   "execution_count": 192,
   "metadata": {
    "collapsed": true
   },
   "outputs": [],
   "source": [
    "from QLearning import *\n",
    "import numpy as np\n",
    "import matplotlib.pylab as plt\n",
    "%matplotlib inline"
   ]
  },
  {
   "cell_type": "markdown",
   "metadata": {},
   "source": [
    "## First example - Painless QLearning tuto"
   ]
  },
  {
   "cell_type": "markdown",
   "metadata": {},
   "source": [
    "First thing to do is to create the model of the system.\n",
    "This is for simulation purpose, in real life it could be given by sensors.\n",
    "The _model_ is given by the state graph and correspond to the possibility of performing an action (columns) from a given state (rows). For further explanations on this example, read [Painless QLearning tutorial](http://mnemstudio.org/path-finding-q-learning-tutorial.htm).\n",
    "\n",
    "This function returns next state from a given state and action. The result of this action will be, by definition of the problem, to move to the room which number is the action provided if this action is feasible. Otherwise the robot stays in his state."
   ]
  },
  {
   "cell_type": "code",
   "execution_count": 193,
   "metadata": {
    "collapsed": true
   },
   "outputs": [],
   "source": [
    "def apply_model(state, action):\n",
    "\n",
    "    model = np.array([[0, 0, 0, 0, 1, 0], \n",
    "                      [0, 0, 0, 0, 0, 1], \n",
    "                      [0, 0, 0, 1, 0, 0], \n",
    "                      [0, 0, 1, 0, 1, 0], \n",
    "                      [1, 0, 0, 1, 0, 1], \n",
    "                      [0, 1, 0, 0, 1, 1]])\n",
    "    \n",
    "    if model[state, action]:\n",
    "        \n",
    "        return action\n",
    "    \n",
    "    else:\n",
    "    \n",
    "        return state"
   ]
  },
  {
   "cell_type": "markdown",
   "metadata": {},
   "source": [
    "Define the starting and goal states and the reward of any action performed in any state."
   ]
  },
  {
   "cell_type": "code",
   "execution_count": 194,
   "metadata": {
    "collapsed": true
   },
   "outputs": [],
   "source": [
    "R0 = np.array([[0, 0, 0, 0, 0, 0],\n",
    "               [0, 0, 0, 0, 0, 100],\n",
    "               [0, 0, 0, 0, 0, 0],\n",
    "               [0, 0, 0, 0, 0, 0],\n",
    "               [0, 0, 0, 0, 0, 100],\n",
    "               [0, 0, 0, 0, 0, 100]])\n",
    "\n",
    "state = 2\n",
    "goal = 5"
   ]
  },
  {
   "cell_type": "markdown",
   "metadata": {},
   "source": [
    "Create the QLearning object by providing the states and action lists, reward matrix, learning rate and discount factor."
   ]
  },
  {
   "cell_type": "code",
   "execution_count": 195,
   "metadata": {
    "collapsed": true
   },
   "outputs": [],
   "source": [
    "learning = QLearning(range(0,6), range(0,6), R0, 0.5, 0.9)"
   ]
  },
  {
   "cell_type": "markdown",
   "metadata": {},
   "source": [
    "First we need a training function."
   ]
  },
  {
   "cell_type": "code",
   "execution_count": 196,
   "metadata": {
    "collapsed": true
   },
   "outputs": [],
   "source": [
    "def train_model(learning, start, steps, goal = -1, randomize = 0.5):\n",
    "    '''\n",
    "    goal_reached is set to -1 if we want to perform simulation exactly for the specified number of steps\n",
    "    otherwise the value is the state goal and the simulation stops if it is reached \n",
    "    '''\n",
    "    curr_state = start\n",
    "    states_log = [curr_state]\n",
    "    for i in range(steps):\n",
    "        if curr_state != goal:\n",
    "            action = learning.choose_action(state, randomize)\n",
    "            next_state = apply_model(curr_state, action)\n",
    "            learning.update_model(curr_state, action, next_state)\n",
    "            curr_state = next_state\n",
    "            states_log.append(curr_state)\n",
    "        else:\n",
    "            break\n",
    "            \n",
    "    return  states_log"
   ]
  },
  {
   "cell_type": "markdown",
   "metadata": {},
   "source": [
    "We can perform a training until the robot reach the goal and visualize the path of the robot."
   ]
  },
  {
   "cell_type": "code",
   "execution_count": 197,
   "metadata": {},
   "outputs": [
    {
     "name": "stdout",
     "output_type": "stream",
     "text": [
      "[2, 2, 2, 2, 2, 2, 2, 2, 2, 3, 3, 3, 3, 3, 3, 2, 2, 2, 2, 2, 2, 2, 2, 2, 2, 2, 2, 2, 2, 3, 4, 4, 5]\n"
     ]
    }
   ],
   "source": [
    "print(train_model(learning, state, 100, goal, 0))"
   ]
  },
  {
   "cell_type": "markdown",
   "metadata": {},
   "source": [
    "The effect on Q matrix can be verified:"
   ]
  },
  {
   "cell_type": "code",
   "execution_count": 198,
   "metadata": {
    "scrolled": false
   },
   "outputs": [
    {
     "name": "stdout",
     "output_type": "stream",
     "text": [
      "[[  0.   0.   0.   0.   0.   0.]\n",
      " [  0.   0.   0.   0.   0.   0.]\n",
      " [  0.   0.   0.   0.   0.   0.]\n",
      " [  0.   0.   0.   0.   0.   0.]\n",
      " [  0.   0.   0.   0.   0.  50.]\n",
      " [  0.   0.   0.   0.   0.   0.]]\n"
     ]
    }
   ],
   "source": [
    "print(learning.Q)"
   ]
  },
  {
   "cell_type": "markdown",
   "metadata": {},
   "source": [
    "Let's train the model 100 simulation of 20 steps by complete semi-random exploration. We do not stop the simulation if the goal is reached. That way we completely explore the world."
   ]
  },
  {
   "cell_type": "code",
   "execution_count": 199,
   "metadata": {},
   "outputs": [
    {
     "name": "stdout",
     "output_type": "stream",
     "text": [
      "[2, 2, 2, 2, 2, 2, 2, 2, 2, 2, 2, 2, 2, 2, 2, 3, 3, 3, 2, 2, 2]\n"
     ]
    }
   ],
   "source": [
    "for i in range(100):\n",
    "    path = train_model(learning, state, 20, -1, 0.5)\n",
    "    if np.mod(i, 100) == 0:\n",
    "        print(path)"
   ]
  },
  {
   "cell_type": "markdown",
   "metadata": {
    "collapsed": true
   },
   "source": [
    "We can now check the Q matrix. For better visualization, we can show it with color scales."
   ]
  },
  {
   "cell_type": "code",
   "execution_count": 200,
   "metadata": {},
   "outputs": [
    {
     "name": "stdout",
     "output_type": "stream",
     "text": [
      "[[ 533.  527.  547.  546.  622.  553.]\n",
      " [ 328.  322.  126.  442.  355.  595.]\n",
      " [ 497.  500.  500.  565.  496.  497.]\n",
      " [ 557.  563.  500.  554.  638.  563.]\n",
      " [ 546.  625.  625.  550.  631.  724.]\n",
      " [ 607.  498.  582.  566.  625.  703.]]\n"
     ]
    },
    {
     "data": {
      "text/plain": [
       "<matplotlib.image.AxesImage at 0x228f4291b38>"
      ]
     },
     "execution_count": 200,
     "metadata": {},
     "output_type": "execute_result"
    },
    {
     "data": {
      "image/png": "[encoded data removed]",
      "text/plain": [
       "<matplotlib.figure.Figure at 0x228f444b3c8>"
      ]
     },
     "metadata": {},
     "output_type": "display_data"
    }
   ],
   "source": [
    "Q = np.round(learning.Q)\n",
    "print(Q)\n",
    "plt.imshow(Q)"
   ]
  },
  {
   "cell_type": "markdown",
   "metadata": {
    "collapsed": true
   },
   "source": [
    "We can check that the resulting policy allows to find a direct path to the goal."
   ]
  },
  {
   "cell_type": "code",
   "execution_count": 201,
   "metadata": {
    "collapsed": true
   },
   "outputs": [],
   "source": [
    "def planer(learning, start, goal):\n",
    "    curr_state = start\n",
    "    path = [curr_state]\n",
    "    i = 0\n",
    "    while (curr_state != goal) and i < 1000:\n",
    "        action = learning.choose_best_action(curr_state)\n",
    "        next_state = apply_model(curr_state, action)\n",
    "        curr_state = next_state\n",
    "        path.append(curr_state)\n",
    "        i += 1\n",
    "    return path"
   ]
  },
  {
   "cell_type": "code",
   "execution_count": 202,
   "metadata": {},
   "outputs": [
    {
     "name": "stdout",
     "output_type": "stream",
     "text": [
      "[2, 3, 4, 5]\n"
     ]
    }
   ],
   "source": [
    "print(planer(learning, state, goal))"
   ]
  },
  {
   "cell_type": "markdown",
   "metadata": {},
   "source": [
    "## Secound example - Grid World Path Finding"
   ]
  },
  {
   "cell_type": "markdown",
   "metadata": {},
   "source": [
    "In this example we will try to find a path linking 2 points avoiding randomly generated obstacles in a grid world where posiible actions are the 4-neighbourhood of the cell."
   ]
  },
  {
   "cell_type": "code",
   "execution_count": 210,
   "metadata": {
    "collapsed": true
   },
   "outputs": [],
   "source": [
    "import numpy as np\n",
    "from QLearning import *\n",
    "import GridWorld as gw\n",
    "import matplotlib.pylab as plt"
   ]
  },
  {
   "cell_type": "markdown",
   "metadata": {},
   "source": [
    "Some functions are needed to manage easily the grid map."
   ]
  },
  {
   "cell_type": "code",
   "execution_count": 211,
   "metadata": {
    "collapsed": true
   },
   "outputs": [],
   "source": [
    "def mapper(x, dim):\n",
    "    \n",
    "    return [x//dim[1], np.mod(x, dim[1])]\n",
    "\n",
    "def unmapper(x, dim):\n",
    "    \n",
    "    return x[0] * dim[1] + x[1]\n",
    "\n",
    "dim = [20, 20]\n",
    "model = np.zeros(dim)\n",
    "model[np.where(np.random.rand(dim[0], dim[1]) > 0.6)] = 1 \n",
    "\n",
    "def find_free(model):\n",
    "    \n",
    "    free = np.where(model == 0)\n",
    "    rand_pos = np.random.randint(len(free[0]))\n",
    "\n",
    "    return unmapper([free[0][rand_pos], free[1][rand_pos]], dim)"
   ]
  },
  {
   "cell_type": "markdown",
   "metadata": {},
   "source": [
    "As in last example, I define a model for the simulation, assuming edged are obstacles."
   ]
  },
  {
   "cell_type": "code",
   "execution_count": 212,
   "metadata": {
    "collapsed": true
   },
   "outputs": [],
   "source": [
    "def apply_model(state, action):\n",
    "    \n",
    "    cord = mapper(state, dim)\n",
    "    \n",
    "    if (cord[0] == 0 and action == 1) or (cord[0] == dim[0] - 1 and action == 3) or (cord[1] == 0 and action == 2) or (cord[1] == dim[1] - 1 and action == 0):\n",
    "        \n",
    "        return state\n",
    "    \n",
    "    elif (action == 0 and model[cord[0], cord[1] + 1]) or (action == 1 and model[cord[0] - 1, cord[1]]) or (action == 2 and model[cord[0], cord[1] - 1]) or (action == 3 and model[cord[0] + 1, cord[1]]):\n",
    "        \n",
    "        return state\n",
    "    \n",
    "    else:   \n",
    "        \n",
    "        if action == 0:\n",
    "            \n",
    "            return unmapper([cord[0], cord[1] + 1], dim)\n",
    "                           \n",
    "        elif action == 1:\n",
    "            \n",
    "            return unmapper([cord[0] - 1, cord[1]], dim)\n",
    "                           \n",
    "        elif action == 2:\n",
    "            \n",
    "            return unmapper([cord[0], cord[1] - 1], dim)\n",
    "                           \n",
    "        else:\n",
    "            \n",
    "            return unmapper([cord[0] + 1, cord[1]], dim)"
   ]
  },
  {
   "cell_type": "markdown",
   "metadata": {
    "collapsed": true
   },
   "source": [
    "Define a reward function, a random goal."
   ]
  },
  {
   "cell_type": "code",
   "execution_count": 213,
   "metadata": {},
   "outputs": [],
   "source": [
    "R0 = np.zeros([dim[0] * dim[1], 4])\n",
    "goal = find_free(model)\n",
    "R0[goal, 0] = 100\n",
    "s0 = goal\n",
    "while np.sum(np.abs(s0 - goal)) < np.sum(dim) * 0.8:\n",
    "    s0 = find_free(model)"
   ]
  },
  {
   "cell_type": "markdown",
   "metadata": {},
   "source": [
    "Create the learning object"
   ]
  },
  {
   "cell_type": "code",
   "execution_count": 236,
   "metadata": {},
   "outputs": [],
   "source": [
    "learning = QLearning(range(0,dim[0] * dim[1]), range(0,4), R0, 0.5, 0.99)"
   ]
  },
  {
   "cell_type": "code",
   "execution_count": 237,
   "metadata": {},
   "outputs": [],
   "source": [
    "preview = np.zeros(dim)\n",
    "\n",
    "for _ in range(500):\n",
    "            \n",
    "    state = s0\n",
    "    \n",
    "    for _ in range(500):\n",
    "        \n",
    "        action = learning.choose_action(state,0.5)\n",
    "        next_state = apply_model(state, action)\n",
    "        learning.update_model(state, action, next_state)        \n",
    "        state = next_state\n",
    "        \n",
    "    s = s0\n",
    "    \n",
    "for _ in range(dim[0] * dim[1]):\n",
    "\n",
    "    s = apply_model(s, learning.choose_best_action(s))\n",
    "    preview[tuple(mapper(s, dim))] = 0.5\n",
    "\n",
    "    if s == goal:\n",
    "        break\n",
    "        \n",
    "preview[tuple(mapper(s0, dim))] = 1\n",
    "preview[tuple(mapper(goal, dim))] = 1"
   ]
  },
  {
   "cell_type": "markdown",
   "metadata": {
    "collapsed": true
   },
   "source": [
    "We can now visualize Q matrix and the learned path."
   ]
  },
  {
   "cell_type": "code",
   "execution_count": 238,
   "metadata": {},
   "outputs": [
    {
     "data": {
      "image/png": "[encoded data removed]",
      "text/plain": [
       "<matplotlib.figure.Figure at 0x228f4499588>"
      ]
     },
     "metadata": {},
     "output_type": "display_data"
    }
   ],
   "source": [
    "plt.figure(figsize=(dim[1]/2,dim[0]),facecolor='w') \n",
    "plt.clf()\n",
    "plt.subplot(2, 1, 1)\n",
    "plt.title('Q matrix coefficients')\n",
    "gw.DrawMap(np.reshape(np.max(learning.Q, 1), dim), model)\n",
    "plt.subplot(2, 1, 2)\n",
    "plt.title('Simulated learned path')\n",
    "gw.DrawMap(preview, model)\n",
    "plt.pause(0.01)"
   ]
  }
 ],
 "metadata": {
  "kernelspec": {
   "display_name": "Python 3",
   "language": "python",
   "name": "python3"
  },
  "language_info": {
   "codemirror_mode": {
    "name": "ipython",
    "version": 3
   },
   "file_extension": ".py",
   "mimetype": "text/x-python",
   "name": "python",
   "nbconvert_exporter": "python",
   "pygments_lexer": "ipython3",
   "version": "3.6.1"
  }
 },
 "nbformat": 4,
 "nbformat_minor": 2
}
